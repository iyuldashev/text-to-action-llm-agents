{
  "nbformat": 4,
  "nbformat_minor": 0,
  "metadata": {
    "colab": {
      "provenance": []
    },
    "kernelspec": {
      "name": "python3",
      "display_name": "Python 3"
    },
    "language_info": {
      "name": "python"
    }
  },
  "cells": [
    {
      "cell_type": "code",
      "source": [
        "import os\n",
        "import json\n",
        "from openai import OpenAI\n",
        "from dotenv import load_dotenv"
      ],
      "metadata": {
        "id": "qnCPzQa_Xegr"
      },
      "execution_count": 5,
      "outputs": []
    },
    {
      "cell_type": "code",
      "source": [
        "# Load API key\n",
        "load_dotenv()\n",
        "client = OpenAI(api_key=os.getenv(\"OPENAI_API_KEY\"))"
      ],
      "metadata": {
        "id": "s4eSeGa7XgUq"
      },
      "execution_count": 6,
      "outputs": []
    },
    {
      "cell_type": "code",
      "source": [
        "system_message = \"\"\"\n",
        "You are a robotics task planner operating in a standard household environment.\n",
        "Your job is to break down each high-level command from the user into a clear,\n",
        "step-by-step plan that a mobile robot manipulator could realistically execute and provide only and only instructions.\n",
        "\n",
        "Assume the robot can:\n",
        "1. Navigate indoor spaces (e.g., living room, kitchen).\n",
        "2. Detect and identify common household objects (cups, cans, snacks).\n",
        "3. Pick up and place items with a gripper.\n",
        "4. Use basic cleaning tools (e.g., a cloth or paper towel) if needed.\n",
        "\n",
        "Each step should reflect physically feasible actions in logical order.\n",
        "If a user’s request is ambiguous, clarify or make reasonable assumptions\n",
        "and note them. Return the plan as a concise, numbered list with clear instructions.\n",
        "Avoid extraneous commentary.\n",
        "\"\"\""
      ],
      "metadata": {
        "id": "iCtCXcfDXlyF"
      },
      "execution_count": 13,
      "outputs": []
    },
    {
      "cell_type": "code",
      "source": [
        "prompts = [\n",
        "  \"I spilled my drink, Can you help?\",\n",
        "  \"How would you bring me a coke can?\",\n",
        "  \"Can you bring me a snack from the table?\",\n",
        "  \"I'm feeling cold; can you bring me a blanket from the closet in the hallway?\"\n",
        "]"
      ],
      "metadata": {
        "id": "7a3x4QY4XqJp"
      },
      "execution_count": 14,
      "outputs": []
    },
    {
      "cell_type": "code",
      "source": [
        "# Function to query GPT-4o\n",
        "def generate_steps(prompt):\n",
        "    response = client.chat.completions.create(\n",
        "        model=\"gpt-4o\",\n",
        "        messages=[\n",
        "            {\"role\": \"system\", \"content\": system_message},\n",
        "            {\"role\": \"user\", \"content\": prompt}\n",
        "        ],\n",
        "        temperature=0.3\n",
        "    )\n",
        "    return response.choices[0].message.content.strip()"
      ],
      "metadata": {
        "id": "qjGOMSedXx_A"
      },
      "execution_count": 15,
      "outputs": []
    },
    {
      "cell_type": "code",
      "source": [
        "# Run experiments and save results\n",
        "results = []\n",
        "for idx, prompt in enumerate(prompts):\n",
        "    response = generate_steps(prompt)\n",
        "    results.append({\"id\": idx+1, \"prompt\": prompt, \"response\": response})\n",
        "    print(f\"Prompt {idx+1}:\\n{response}\\n{'-'*50}\")\n",
        "\n",
        "# Save results to JSON\n",
        "with open(\"llm_task_decomposition_results.json\", \"w\") as f:\n",
        "    json.dump(results, f, indent=2)"
      ],
      "metadata": {
        "colab": {
          "base_uri": "https://localhost:8080/"
        },
        "id": "FtSlcVzgm7UK",
        "outputId": "325b8da2-7660-4505-d486-b52a633ae80b"
      },
      "execution_count": 16,
      "outputs": [
        {
          "output_type": "stream",
          "name": "stdout",
          "text": [
            "Prompt 1:\n",
            "1. Navigate to the location of the spill.\n",
            "2. Identify the spilled liquid and the surrounding area.\n",
            "3. Locate a cleaning cloth or paper towel in the vicinity (e.g., kitchen or cleaning supplies area).\n",
            "4. Navigate to the cleaning cloth or paper towel and pick it up with the gripper.\n",
            "5. Return to the spill location.\n",
            "6. Place the cleaning cloth or paper towel on the spill to absorb the liquid.\n",
            "7. Press down gently on the cloth or paper towel to ensure maximum absorption.\n",
            "8. If necessary, repeat steps 6 and 7 with a new cloth or paper towel until the spill is fully absorbed.\n",
            "9. Dispose of the used cleaning cloth or paper towel in the trash.\n",
            "10. Return to the charging station or standby location.\n",
            "--------------------------------------------------\n",
            "Prompt 2:\n",
            "1. Navigate to the kitchen area.\n",
            "2. Use sensors to scan and identify the location of a Coke can.\n",
            "3. Move to the identified location of the Coke can.\n",
            "4. Position the gripper above the Coke can.\n",
            "5. Lower the gripper to grasp the Coke can securely.\n",
            "6. Close the gripper to pick up the Coke can.\n",
            "7. Lift the Coke can carefully.\n",
            "8. Navigate to the user's current location.\n",
            "9. Extend the arm to present the Coke can to the user.\n",
            "10. Release the gripper to place the Coke can within the user's reach.\n",
            "--------------------------------------------------\n",
            "Prompt 3:\n",
            "1. Navigate to the table in the room.\n",
            "2. Use sensors to scan and identify snack items on the table.\n",
            "3. Select a snack item that is easily grippable.\n",
            "4. Position the gripper above the selected snack item.\n",
            "5. Lower the gripper to grasp the snack item securely.\n",
            "6. Lift the snack item carefully.\n",
            "7. Navigate back to the user’s location.\n",
            "8. Extend the gripper to present the snack to the user.\n",
            "--------------------------------------------------\n",
            "Prompt 4:\n",
            "1. Navigate to the hallway.\n",
            "2. Locate the closet in the hallway.\n",
            "3. Open the closet door.\n",
            "4. Identify a blanket inside the closet.\n",
            "5. Use the gripper to pick up the blanket.\n",
            "6. Close the closet door.\n",
            "7. Navigate back to the user.\n",
            "8. Gently place the blanket on the user's lap or designated area.\n",
            "--------------------------------------------------\n"
          ]
        }
      ]
    }
  ]
}